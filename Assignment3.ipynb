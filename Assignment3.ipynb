{
 "cells": [
  {
   "cell_type": "code",
   "execution_count": 30,
   "metadata": {},
   "outputs": [],
   "source": [
    "import pandas as pd\n",
    "pd.set_option('display.max_rows', 900)"
   ]
  },
  {
   "cell_type": "markdown",
   "metadata": {},
   "source": [
    "Step 1: Import the tradesheet from the previous assignment"
   ]
  },
  {
   "cell_type": "code",
   "execution_count": 62,
   "metadata": {},
   "outputs": [],
   "source": [
    "%store -r tradesheet"
   ]
  },
  {
   "cell_type": "markdown",
   "metadata": {},
   "source": [
    "Step 2: Remove the open trades that did not close only at the end of the tradesheet because the data was limited to three days. This will give a better understanding of the trading performance of the algorithm. "
   ]
  },
  {
   "cell_type": "code",
   "execution_count": 77,
   "metadata": {},
   "outputs": [],
   "source": [
    "tradesheet = tradesheet[tradesheet['sell'].notna()]\n",
    "tradesheet = tradesheet[tradesheet['buy'].notna()]"
   ]
  },
  {
   "cell_type": "markdown",
   "metadata": {},
   "source": [
    "Step 3: Calculate the profit or loss:"
   ]
  },
  {
   "cell_type": "code",
   "execution_count": 85,
   "metadata": {},
   "outputs": [],
   "source": [
    "tradesheet.pnl = (tradesheet.buy - tradesheet.sell) * tradesheet.spot\n",
    "# buy - sell is used because for a winning trade, the BTC one can buy when the spot price is lower is more than when the spot price is more and vice versa."
   ]
  },
  {
   "cell_type": "markdown",
   "metadata": {},
   "source": [
    "Step 4: divide the tradesheet into trades for three diffrent days"
   ]
  },
  {
   "cell_type": "code",
   "execution_count": 79,
   "metadata": {},
   "outputs": [],
   "source": [
    "tradesheet_01_03_2022 = tradesheet[tradesheet.buy_timeStamp < 1646092800000 + 86400000]\n",
    "tradesheet_03_03_2022 = tradesheet[tradesheet.buy_timeStamp > 1646092800000 + 2*(86400000)]\n",
    "tradesheet_02_03_2022 = tradesheet.loc[tradesheet_01_03_2022.index[-1]:tradesheet_03_03_2022.index[0]]\n",
    "tradesheet_02_03_2022 = tradesheet_02_03_2022.reset_index()\n",
    "tradesheet_03_03_2022 = tradesheet_03_03_2022.reset_index()\n",
    "tradesheet_01_03_2022 = tradesheet_01_03_2022.reset_index()"
   ]
  },
  {
   "cell_type": "markdown",
   "metadata": {},
   "source": [
    "Step 5: Create a dataframe to record the different metrics for each day"
   ]
  },
  {
   "cell_type": "code",
   "execution_count": 80,
   "metadata": {},
   "outputs": [],
   "source": [
    "metrics =pd.DataFrame(columns = ['date','No_of_trades','No_of_winners','No_of_losers','Avg_winner','Avg_loser','PnL_basisPoints','PnL_gross','Max_drawdown'])"
   ]
  },
  {
   "cell_type": "markdown",
   "metadata": {},
   "source": [
    "Step 6: Calculate the metrics"
   ]
  },
  {
   "cell_type": "code",
   "execution_count": 81,
   "metadata": {},
   "outputs": [],
   "source": [
    "metrics.loc[0,'date'] = '01/03/2022'\n",
    "metrics.loc[0,'No_of_trades'] = len(tradesheet_01_03_2022)\n",
    "metrics.loc[0,'No_of_winners'] = len(tradesheet_01_03_2022[tradesheet_01_03_2022.pnl > 0])\n",
    "metrics.loc[0,'No_of_losers'] = len(tradesheet_01_03_2022[tradesheet_01_03_2022.pnl < 0])\n",
    "metrics.loc[0,'Avg_winner'] = tradesheet_01_03_2022[tradesheet_01_03_2022.pnl > 0].pnl.sum()/metrics.loc[0,'No_of_winners']\n",
    "metrics.loc[0,'Avg_loser'] = tradesheet_01_03_2022[tradesheet_01_03_2022.pnl < 0].pnl.sum()/metrics.loc[0,'No_of_losers']\n",
    "metrics.loc[0,'PnL_gross' ] = tradesheet_01_03_2022.pnl.sum()\n",
    "metrics.loc[0,'PnL_basisPoints'] = (metrics.loc[0,'PnL_gross']/5000)*10000\n",
    "\n",
    "min_balance = 1000\n",
    "opening_balance = 1000\n",
    "for i in range(len(tradesheet_01_03_2022)-1):\n",
    "    opening_balance += tradesheet_01_03_2022.loc[i,'pnl'] \n",
    "    if opening_balance < min_balance:\n",
    "        min_balance = opening_balance\n",
    "metrics.loc[0,'Max_drawdown'] = 1000 - min_balance"
   ]
  },
  {
   "cell_type": "code",
   "execution_count": 82,
   "metadata": {},
   "outputs": [],
   "source": [
    "metrics.loc[1,'date'] = '02/03/2022'\n",
    "metrics.loc[1,'No_of_trades'] = len(tradesheet_02_03_2022)\n",
    "metrics.loc[1,'No_of_winners'] = len(tradesheet_02_03_2022[tradesheet_02_03_2022.pnl > 0])\n",
    "metrics.loc[1,'No_of_losers'] = len(tradesheet_02_03_2022[tradesheet_02_03_2022.pnl < 0])\n",
    "metrics.loc[1,'Avg_winner'] = tradesheet_02_03_2022[tradesheet_02_03_2022.pnl > 0].pnl.sum()/metrics.loc[1,'No_of_winners']\n",
    "metrics.loc[1,'Avg_loser'] = tradesheet_02_03_2022[tradesheet_02_03_2022.pnl < 0].pnl.sum()/metrics.loc[1,'No_of_losers']\n",
    "metrics.loc[1,'PnL_gross' ] = tradesheet_02_03_2022.pnl.sum()\n",
    "metrics.loc[1,'PnL_basisPoints'] = (metrics.loc[1,'PnL_gross']/5000)*10000\n",
    "\n",
    "min_balance = 1000\n",
    "opening_balance = 1000\n",
    "for i in range(len(tradesheet_02_03_2022)-1):\n",
    "    opening_balance += tradesheet_02_03_2022.loc[i,'pnl'] \n",
    "    if opening_balance < min_balance:\n",
    "        min_balance = opening_balance\n",
    "metrics.loc[1,'Max_drawdown'] = 1000 - min_balance"
   ]
  },
  {
   "cell_type": "code",
   "execution_count": 83,
   "metadata": {},
   "outputs": [],
   "source": [
    "metrics.loc[2,'date'] = '03/03/2022'\n",
    "metrics.loc[2,'No_of_trades'] = len(tradesheet_03_03_2022)\n",
    "metrics.loc[2,'No_of_winners'] = len(tradesheet_03_03_2022[tradesheet_03_03_2022.pnl > 0])\n",
    "metrics.loc[2,'No_of_losers'] = len(tradesheet_03_03_2022[tradesheet_03_03_2022.pnl < 0])\n",
    "metrics.loc[2,'Avg_winner'] = tradesheet_03_03_2022[tradesheet_03_03_2022.pnl > 0].pnl.sum()/metrics.loc[2,'No_of_winners']\n",
    "metrics.loc[2,'Avg_loser'] = tradesheet_03_03_2022[tradesheet_03_03_2022.pnl < 0].pnl.sum()/metrics.loc[2,'No_of_losers']\n",
    "metrics.loc[2,'PnL_gross' ] = tradesheet_03_03_2022.pnl.sum()\n",
    "metrics.loc[2,'PnL_basisPoints'] = (metrics.loc[2,'PnL_gross']/5000)*10000\n",
    "\n",
    "min_balance = 1000\n",
    "opening_balance = 1000\n",
    "for i in range(len(tradesheet_03_03_2022)-1):\n",
    "    opening_balance += tradesheet_03_03_2022.loc[i,'pnl'] \n",
    "    if opening_balance < min_balance:\n",
    "        min_balance = opening_balance\n",
    "metrics.loc[2,'Max_drawdown'] = 1000 - min_balance"
   ]
  },
  {
   "cell_type": "code",
   "execution_count": 84,
   "metadata": {},
   "outputs": [
    {
     "data": {
      "text/html": [
       "<div>\n",
       "<style scoped>\n",
       "    .dataframe tbody tr th:only-of-type {\n",
       "        vertical-align: middle;\n",
       "    }\n",
       "\n",
       "    .dataframe tbody tr th {\n",
       "        vertical-align: top;\n",
       "    }\n",
       "\n",
       "    .dataframe thead th {\n",
       "        text-align: right;\n",
       "    }\n",
       "</style>\n",
       "<table border=\"1\" class=\"dataframe\">\n",
       "  <thead>\n",
       "    <tr style=\"text-align: right;\">\n",
       "      <th></th>\n",
       "      <th>date</th>\n",
       "      <th>No_of_trades</th>\n",
       "      <th>No_of_winners</th>\n",
       "      <th>No_of_losers</th>\n",
       "      <th>Avg_winner</th>\n",
       "      <th>Avg_loser</th>\n",
       "      <th>PnL_basisPoints</th>\n",
       "      <th>PnL_gross</th>\n",
       "      <th>Max_drawdown</th>\n",
       "    </tr>\n",
       "  </thead>\n",
       "  <tbody>\n",
       "    <tr>\n",
       "      <th>0</th>\n",
       "      <td>01/03/2022</td>\n",
       "      <td>235</td>\n",
       "      <td>231</td>\n",
       "      <td>4</td>\n",
       "      <td>0.645935</td>\n",
       "      <td>-17.620649</td>\n",
       "      <td>157.456701</td>\n",
       "      <td>78.72835</td>\n",
       "      <td>0</td>\n",
       "    </tr>\n",
       "    <tr>\n",
       "      <th>1</th>\n",
       "      <td>02/03/2022</td>\n",
       "      <td>215</td>\n",
       "      <td>209</td>\n",
       "      <td>6</td>\n",
       "      <td>0.642056</td>\n",
       "      <td>-14.393692</td>\n",
       "      <td>95.655301</td>\n",
       "      <td>47.827651</td>\n",
       "      <td>14.43094</td>\n",
       "    </tr>\n",
       "    <tr>\n",
       "      <th>2</th>\n",
       "      <td>03/03/2022</td>\n",
       "      <td>238</td>\n",
       "      <td>231</td>\n",
       "      <td>7</td>\n",
       "      <td>0.644827</td>\n",
       "      <td>-19.530406</td>\n",
       "      <td>24.484593</td>\n",
       "      <td>12.242296</td>\n",
       "      <td>46.78351</td>\n",
       "    </tr>\n",
       "  </tbody>\n",
       "</table>\n",
       "</div>"
      ],
      "text/plain": [
       "         date No_of_trades No_of_winners No_of_losers Avg_winner  Avg_loser  \\\n",
       "0  01/03/2022          235           231            4   0.645935 -17.620649   \n",
       "1  02/03/2022          215           209            6   0.642056 -14.393692   \n",
       "2  03/03/2022          238           231            7   0.644827 -19.530406   \n",
       "\n",
       "  PnL_basisPoints  PnL_gross Max_drawdown  \n",
       "0      157.456701   78.72835            0  \n",
       "1       95.655301  47.827651     14.43094  \n",
       "2       24.484593  12.242296     46.78351  "
      ]
     },
     "execution_count": 84,
     "metadata": {},
     "output_type": "execute_result"
    }
   ],
   "source": [
    "metrics"
   ]
  },
  {
   "cell_type": "code",
   "execution_count": null,
   "metadata": {},
   "outputs": [],
   "source": []
  }
 ],
 "metadata": {
  "kernelspec": {
   "display_name": "Python 3",
   "language": "python",
   "name": "python3"
  },
  "language_info": {
   "codemirror_mode": {
    "name": "ipython",
    "version": 3
   },
   "file_extension": ".py",
   "mimetype": "text/x-python",
   "name": "python",
   "nbconvert_exporter": "python",
   "pygments_lexer": "ipython3",
   "version": "3.8.3"
  }
 },
 "nbformat": 4,
 "nbformat_minor": 4
}
