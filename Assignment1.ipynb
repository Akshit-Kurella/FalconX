{
 "cells": [
  {
   "cell_type": "markdown",
   "metadata": {},
   "source": [
    "# Market making strategy"
   ]
  },
  {
   "cell_type": "markdown",
   "metadata": {},
   "source": [
    "# Introduction"
   ]
  },
  {
   "cell_type": "markdown",
   "metadata": {},
   "source": [
    "Market making refers to actively quoting both sides(bid and ask) of a particular market. Market makers provide liquiduty to the markets and make a profit from capturing the bid-ask spread. Market making is not a new phenomenon. It has been an integral part of how stock markets operate since decades. With the emergence and development in technology and programming, market makers are well established in alternate markets like currency markets and crypto exchanges.  "
   ]
  },
  {
   "cell_type": "markdown",
   "metadata": {},
   "source": [
    "## Assignment 1"
   ]
  },
  {
   "cell_type": "markdown",
   "metadata": {},
   "source": [
    "The objective of the assignment was to retrieve the trade data of BTCUSDT from Binance, which is a major crypto currency exchange, for the first three days of March 2022."
   ]
  },
  {
   "cell_type": "markdown",
   "metadata": {},
   "source": [
    "Step 1: Import the necessary packages"
   ]
  },
  {
   "cell_type": "code",
   "execution_count": 1,
   "metadata": {},
   "outputs": [],
   "source": [
    "import urllib\n",
    "import pandas as pd\n",
    "from datetime import datetime\n",
    "import zipfile\n",
    "from io import StringIO\n",
    "pd.set_option('display.max_rows', 500)"
   ]
  },
  {
   "cell_type": "markdown",
   "metadata": {},
   "source": [
    "Step 2: Create an empty Dataframe which will be used to show the retrieved data."
   ]
  },
  {
   "cell_type": "code",
   "execution_count": 11,
   "metadata": {},
   "outputs": [],
   "source": [
    "data = pd.DataFrame()"
   ]
  },
  {
   "cell_type": "markdown",
   "metadata": {},
   "source": [
    "Step 3: Define the source of the data, the instrument that's being traded and the individual files for different dates."
   ]
  },
  {
   "cell_type": "code",
   "execution_count": 12,
   "metadata": {},
   "outputs": [],
   "source": [
    "endPoint = 'https://data.binance.vision/data/spot/daily/trades/'\n",
    "instrument = 'BTCUSDT'\n",
    "fileName_2022_03_01 = '/BTCUSDT-trades-2022-03-01.zip'\n",
    "fileName_2022_03_02 = '/BTCUSDT-trades-2022-03-02.zip'\n",
    "fileName_2022_03_03 = '/BTCUSDT-trades-2022-03-03.zip'"
   ]
  },
  {
   "cell_type": "markdown",
   "metadata": {},
   "source": [
    "Step 4: Retrieve the data files "
   ]
  },
  {
   "cell_type": "code",
   "execution_count": null,
   "metadata": {},
   "outputs": [],
   "source": [
    "file_2022_03_01 =  urllib.request.urlretrieve(endPoint + instrument + fileName_2022_03_01, fileName_2022_03_01)\n",
    "file_2022_03_02 =  urllib.request.urlretrieve(endPoint + instrument + fileName_2022_03_02, fileName_2022_03_02)\n",
    "file_2022_03_03 =  urllib.request.urlretrieve(endPoint + instrument + fileName_2022_03_03, fileName_2022_03_03)"
   ]
  },
  {
   "cell_type": "markdown",
   "metadata": {},
   "source": [
    "Step 5: Unzip the data and concatenate it into one Dataframe"
   ]
  },
  {
   "cell_type": "code",
   "execution_count": null,
   "metadata": {},
   "outputs": [],
   "source": [
    "for trade_data in [file_2022_03_01,file_2022_03_02, file_2022_03_03]:\n",
    "    zip_file_object = zipfile.ZipFile(trade_data[0], 'r')\n",
    "    first_file = zip_file_object.namelist()[0]\n",
    "    file = zip_file_object.open(first_file)\n",
    "    content = file.read() #unzipped files are in bytes format at this point\n",
    "    #to convert data from bytes type to a pandas dataframe                                  \n",
    "    string_format=str(content,'utf-8')\n",
    "    unzippedData = StringIO(string_format) \n",
    "    csvConverted = pd.read_csv(unzippedData,names =['trade_id','tradedPrice','tradedSize','tradedNotional','timeStamp','isBuyerMaker','isBestMatch'])\n",
    "    data = pd.concat([data,csvConverted]) \n",
    "data = data.reset_index(drop = True)\n",
    "data = data.drop(['trade_id','isBuyerMaker','isBestMatch'],axis = 1) #to drop the columns that are not required"
   ]
  },
  {
   "cell_type": "markdown",
   "metadata": {},
   "source": [
    "Result"
   ]
  },
  {
   "cell_type": "code",
   "execution_count": 6,
   "metadata": {
    "collapsed": true
   },
   "outputs": [
    {
     "data": {
      "text/html": [
       "<div>\n",
       "<style scoped>\n",
       "    .dataframe tbody tr th:only-of-type {\n",
       "        vertical-align: middle;\n",
       "    }\n",
       "\n",
       "    .dataframe tbody tr th {\n",
       "        vertical-align: top;\n",
       "    }\n",
       "\n",
       "    .dataframe thead th {\n",
       "        text-align: right;\n",
       "    }\n",
       "</style>\n",
       "<table border=\"1\" class=\"dataframe\">\n",
       "  <thead>\n",
       "    <tr style=\"text-align: right;\">\n",
       "      <th></th>\n",
       "      <th>tradedPrice</th>\n",
       "      <th>tradedSize</th>\n",
       "      <th>tradedNotional</th>\n",
       "      <th>timeStamp</th>\n",
       "    </tr>\n",
       "  </thead>\n",
       "  <tbody>\n",
       "    <tr>\n",
       "      <th>0</th>\n",
       "      <td>43160.00</td>\n",
       "      <td>0.00056</td>\n",
       "      <td>24.169600</td>\n",
       "      <td>1646092800000</td>\n",
       "    </tr>\n",
       "    <tr>\n",
       "      <th>1</th>\n",
       "      <td>43160.01</td>\n",
       "      <td>0.00052</td>\n",
       "      <td>22.443205</td>\n",
       "      <td>1646092800003</td>\n",
       "    </tr>\n",
       "    <tr>\n",
       "      <th>2</th>\n",
       "      <td>43160.01</td>\n",
       "      <td>0.00182</td>\n",
       "      <td>78.551218</td>\n",
       "      <td>1646092800004</td>\n",
       "    </tr>\n",
       "    <tr>\n",
       "      <th>3</th>\n",
       "      <td>43160.01</td>\n",
       "      <td>0.00631</td>\n",
       "      <td>272.339663</td>\n",
       "      <td>1646092800005</td>\n",
       "    </tr>\n",
       "    <tr>\n",
       "      <th>4</th>\n",
       "      <td>43160.00</td>\n",
       "      <td>0.00229</td>\n",
       "      <td>98.836400</td>\n",
       "      <td>1646092800006</td>\n",
       "    </tr>\n",
       "    <tr>\n",
       "      <th>...</th>\n",
       "      <td>...</td>\n",
       "      <td>...</td>\n",
       "      <td>...</td>\n",
       "      <td>...</td>\n",
       "    </tr>\n",
       "    <tr>\n",
       "      <th>4809317</th>\n",
       "      <td>42454.01</td>\n",
       "      <td>0.00124</td>\n",
       "      <td>52.642972</td>\n",
       "      <td>1646351999996</td>\n",
       "    </tr>\n",
       "    <tr>\n",
       "      <th>4809318</th>\n",
       "      <td>42454.00</td>\n",
       "      <td>0.00257</td>\n",
       "      <td>109.106780</td>\n",
       "      <td>1646351999996</td>\n",
       "    </tr>\n",
       "    <tr>\n",
       "      <th>4809319</th>\n",
       "      <td>42454.01</td>\n",
       "      <td>0.00054</td>\n",
       "      <td>22.925165</td>\n",
       "      <td>1646351999997</td>\n",
       "    </tr>\n",
       "    <tr>\n",
       "      <th>4809320</th>\n",
       "      <td>42454.01</td>\n",
       "      <td>0.00198</td>\n",
       "      <td>84.058940</td>\n",
       "      <td>1646351999997</td>\n",
       "    </tr>\n",
       "    <tr>\n",
       "      <th>4809321</th>\n",
       "      <td>42454.00</td>\n",
       "      <td>0.00052</td>\n",
       "      <td>22.076080</td>\n",
       "      <td>1646351999999</td>\n",
       "    </tr>\n",
       "  </tbody>\n",
       "</table>\n",
       "<p>4809322 rows × 4 columns</p>\n",
       "</div>"
      ],
      "text/plain": [
       "         tradedPrice  tradedSize  tradedNotional      timeStamp\n",
       "0           43160.00     0.00056       24.169600  1646092800000\n",
       "1           43160.01     0.00052       22.443205  1646092800003\n",
       "2           43160.01     0.00182       78.551218  1646092800004\n",
       "3           43160.01     0.00631      272.339663  1646092800005\n",
       "4           43160.00     0.00229       98.836400  1646092800006\n",
       "...              ...         ...             ...            ...\n",
       "4809317     42454.01     0.00124       52.642972  1646351999996\n",
       "4809318     42454.00     0.00257      109.106780  1646351999996\n",
       "4809319     42454.01     0.00054       22.925165  1646351999997\n",
       "4809320     42454.01     0.00198       84.058940  1646351999997\n",
       "4809321     42454.00     0.00052       22.076080  1646351999999\n",
       "\n",
       "[4809322 rows x 4 columns]"
      ]
     },
     "execution_count": 6,
     "metadata": {},
     "output_type": "execute_result"
    }
   ],
   "source": [
    "data"
   ]
  },
  {
   "cell_type": "markdown",
   "metadata": {},
   "source": [
    "To export the retrieved data and use it for the next assignment:"
   ]
  },
  {
   "cell_type": "code",
   "execution_count": null,
   "metadata": {},
   "outputs": [],
   "source": [
    "%store data"
   ]
  },
  {
   "cell_type": "code",
   "execution_count": null,
   "metadata": {},
   "outputs": [],
   "source": []
  }
 ],
 "metadata": {
  "kernelspec": {
   "display_name": "Python 3",
   "language": "python",
   "name": "python3"
  },
  "language_info": {
   "codemirror_mode": {
    "name": "ipython",
    "version": 3
   },
   "file_extension": ".py",
   "mimetype": "text/x-python",
   "name": "python",
   "nbconvert_exporter": "python",
   "pygments_lexer": "ipython3",
   "version": "3.8.3"
  }
 },
 "nbformat": 4,
 "nbformat_minor": 4
}
