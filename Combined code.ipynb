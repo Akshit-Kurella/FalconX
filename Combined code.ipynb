{
 "cells": [
  {
   "cell_type": "code",
   "execution_count": null,
   "metadata": {},
   "outputs": [],
   "source": [
    "import urllib\n",
    "import pandas as pd\n",
    "from datetime import datetime\n",
    "import zipfile\n",
    "from io import StringIO\n",
    "pd.set_option('display.max_rows', 500)"
   ]
  },
  {
   "cell_type": "code",
   "execution_count": null,
   "metadata": {},
   "outputs": [],
   "source": [
    "data = pd.DataFrame()"
   ]
  },
  {
   "cell_type": "code",
   "execution_count": null,
   "metadata": {},
   "outputs": [],
   "source": [
    "endPoint = 'https://data.binance.vision/data/spot/daily/trades/'\n",
    "instrument = 'BTCUSDT'\n",
    "fileName_2022_03_01 = '/BTCUSDT-trades-2022-03-01.zip'\n",
    "fileName_2022_03_02 = '/BTCUSDT-trades-2022-03-02.zip'\n",
    "fileName_2022_03_03 = '/BTCUSDT-trades-2022-03-03.zip'"
   ]
  },
  {
   "cell_type": "code",
   "execution_count": null,
   "metadata": {},
   "outputs": [],
   "source": [
    "file_2022_03_01 =  urllib.request.urlretrieve(endPoint + instrument + fileName_2022_03_01, fileName_2022_03_01)\n",
    "file_2022_03_02 =  urllib.request.urlretrieve(endPoint + instrument + fileName_2022_03_02, fileName_2022_03_02)\n",
    "file_2022_03_03 =  urllib.request.urlretrieve(endPoint + instrument + fileName_2022_03_03, fileName_2022_03_03)"
   ]
  },
  {
   "cell_type": "code",
   "execution_count": null,
   "metadata": {},
   "outputs": [],
   "source": [
    "for trade_data in [file_2022_03_01,file_2022_03_02, file_2022_03_03]:\n",
    "    zip_file_object = zipfile.ZipFile(trade_data[0], 'r')\n",
    "    first_file = zip_file_object.namelist()[0]\n",
    "    file = zip_file_object.open(first_file)\n",
    "    content = file.read() #unzipped files are in bytes format at this point\n",
    "    #to convert data from bytes type to a pandas dataframe                                  \n",
    "    string_format=str(content,'utf-8')\n",
    "    unzippedData = StringIO(string_format) \n",
    "    csvConverted = pd.read_csv(unzippedData,names =['trade_id','tradedPrice','tradedSize','tradedNotional','timeStamp','isBuyerMaker','isBestMatch'])\n",
    "    data = pd.concat([data,csvConverted]) \n",
    "data = data.reset_index(drop = True)\n",
    "data = data.drop(['trade_id','isBuyerMaker','isBestMatch'],axis = 1) #to drop the columns that are not required"
   ]
  },
  {
   "cell_type": "code",
   "execution_count": null,
   "metadata": {},
   "outputs": [],
   "source": []
  },
  {
   "cell_type": "code",
   "execution_count": null,
   "metadata": {},
   "outputs": [],
   "source": [
    "tradesheet = pd.DataFrame(columns = ['type','spot','buy','buy_timeStamp','sell','sell_timeStamp','pnl'])"
   ]
  },
  {
   "cell_type": "code",
   "execution_count": null,
   "metadata": {},
   "outputs": [],
   "source": [
    "bid_margin = 0.0003 \n",
    "ask_margin = 0.0003\n",
    "balance = 1000 #The nominal value(USDT) for each trade, this will be used to convert to BTC for actual trade quantity\n",
    "buy_position = False # if the position(buy or sell) is false, it means that the position is open and not executed yet\n",
    "sell_position = False\n",
    "opening_time = data.loc[0,'timeStamp']\n",
    "opening_spot = data.loc[0,'tradedPrice'] # opening spot price of BTCUSDT\n",
    "buy_order = opening_spot * (1-bid_margin) \n",
    "sell_order = opening_spot * (1+ask_margin)\n",
    "trade_id = 0 #counts the number of trades and also matches a buy order to a sell order\n",
    "refresh_timeStamp = opening_time\n",
    "carry_buy = {} #A dictionary that holds all the open buy trades that did not execute within the refresh time, so they will be carried forward to the next refresh rate\n",
    "carry_sell = {}#A dictionary that holds all the open sell trades that did not execute within the refresh time, so they will be carried forward to the next refresh rate\n",
    "carry_buy[buy_order] = trade_id #matching a buy order to it's trade id\n",
    "carry_sell[sell_order] = trade_id #matching a sell order to it's trade id\n",
    "refresh_time = 360000 # quote refresh time in milliseconds(6 minutes)"
   ]
  },
  {
   "cell_type": "code",
   "execution_count": null,
   "metadata": {},
   "outputs": [],
   "source": [
    "for i in data.index:\n",
    "    #Since there will a latency of 100ms between the algorithm plaacing the order and the order reaching the exchange, any order matches that happen in between this time wont be considered as executable trades\n",
    "    if (data.loc[i,'timeStamp'] + 100 > refresh_timeStamp) and (data.loc[i,'timeStamp'] < refresh_timeStamp + refresh_time):\n",
    "        if (buy_position == False) and (sell_position == False):\n",
    "            if data.loc[i,'tradedPrice'] > sell_order and (len(carry_sell) < 6):\n",
    "                sell = (balance/data.loc[i,'tradedPrice']) #converting USDT to BTC\n",
    "                sell_position = True\n",
    "                tradesheet.loc[trade_id,'spot'] = data.loc[i,'tradedPrice']\n",
    "                tradesheet.loc[trade_id,'sell'] = sell\n",
    "                tradesheet.loc[trade_id,'sell_timeStamp'] = data.loc[i,'timeStamp']\n",
    "                tradesheet.loc[trade_id,'type'] = 1\n",
    "                continue\n",
    "            elif data.loc[i,'tradedPrice'] < buy_order and (len(carry_buy) < 6):\n",
    "                buy = (balance/data.loc[i,'tradedPrice'])  #converting USDT to BTC\n",
    "                buy_position = True\n",
    "                tradesheet.loc[trade_id,'spot'] = data.loc[i,'tradedPrice']\n",
    "                tradesheet.loc[trade_id,'buy'] = buy\n",
    "                tradesheet.loc[trade_id,'buy_timeStamp'] = data.loc[i,'timeStamp']\n",
    "                tradesheet.loc[trade_id,'type'] = 0\n",
    "\n",
    "                continue\n",
    "        elif (buy_position == False) and (sell_position == True) and (len(carry_sell) < 6):\n",
    "            if data.loc[i,'tradedPrice'] < buy_order:\n",
    "                buy = (balance/data.loc[i,'tradedPrice'])\n",
    "                buy_position = True\n",
    "                tradesheet.loc[trade_id,'buy'] = buy\n",
    "                tradesheet.loc[trade_id,'buy_timeStamp'] = data.loc[i,'timeStamp']\n",
    "\n",
    "                continue\n",
    "        elif (buy_position == True) and (sell_position == False) and (len(carry_buy) < 6):\n",
    "            if data.loc[i,'tradedPrice'] > sell_order:\n",
    "                sell = (balance/data.loc[i,'tradedPrice'])\n",
    "                sell_position = True\n",
    "                tradesheet.loc[trade_id,'sell'] = sell\n",
    "                tradesheet.loc[trade_id,'sell_timeStamp'] = data.loc[i,'timeStamp']\n",
    "                continue\n",
    "        elif(buy_position == True) and (sell_position == True):\n",
    "            #if both trades are executed don't create more trades until the next refresh time\n",
    "            pass\n",
    "        \n",
    "        #checking for old trades\n",
    "        for values in list(carry_buy.keys()):\n",
    "            if data.loc[i,'tradedPrice'] < values:\n",
    "                tradesheet.loc[carry_buy[values],'buy'] = (balance/data.loc[i,'tradedPrice'])\n",
    "                tradesheet.loc[carry_buy[values],'buy_timeStamp'] =data.loc[i,'timeStamp']\n",
    "                carry_buy.pop(values)\n",
    "            else:\n",
    "                continue\n",
    "        for values in list(carry_sell.keys()):\n",
    "            if data.loc[i,'tradedPrice'] > values:\n",
    "                tradesheet.loc[carry_sell[values],'sell'] = (balance/data.loc[i,'tradedPrice'])\n",
    "                tradesheet.loc[carry_sell[values],'sell_timeStamp'] = data.loc[i,'timeStamp']\n",
    "                carry_sell.pop(values)\n",
    "            else:\n",
    "                continue\n",
    "    elif data.loc[i,'timeStamp'] > refresh_timeStamp + refresh_time:\n",
    "        refresh_timeStamp = data.loc[i,'timeStamp'] \n",
    "\n",
    "        # if both the trades are not executed, cancel both trades\n",
    "        if (buy_position == False) and (sell_position == False):\n",
    "            try:\n",
    "                carry_buy.pop(buy_order)\n",
    "                carry_sell.pop(sell_order)\n",
    "            except Exception as e:\n",
    "                print(e)\n",
    "        trade_id += 1\n",
    "        buy_position = False\n",
    "        sell_position = False\n",
    "        refresh_spot = data.loc[i,'tradedPrice']\n",
    "        buy_order = refresh_spot * (1-bid_margin)\n",
    "        carry_buy[buy_order] = trade_id\n",
    "        sell_order = refresh_spot * (1+ask_margin)\n",
    "        carry_sell[sell_order] = trade_id\n",
    "        if len(carry_sell) > 5:\n",
    "            exit_id = sorted(carry_sell.values())[0]\n",
    "            tradesheet.loc[exit_id,'sell'] = (balance/refresh_spot)\n",
    "            tradesheet.loc[exit_id,'sell_timeStamp'] = refresh_timeStamp\n",
    "            for key,value in carry_sell.items():\n",
    "                if value == exit_id:\n",
    "                    carry_sell.pop(key)\n",
    "                    break\n",
    "        if len(carry_buy) > 5:\n",
    "            exit_id = sorted(carry_buy.values())[0]\n",
    "            tradesheet.loc[exit_id,'buy'] = (balance/refresh_spot)\n",
    "            tradesheet.loc[exit_id,'buy_timeStamp'] = refresh_timeStamp\n",
    "            for key,value in carry_buy.items():\n",
    "                if value == exit_id:\n",
    "                    carry_buy.pop(key)\n",
    "                    break\n",
    "            "
   ]
  },
  {
   "cell_type": "code",
   "execution_count": null,
   "metadata": {},
   "outputs": [],
   "source": []
  },
  {
   "cell_type": "code",
   "execution_count": null,
   "metadata": {},
   "outputs": [],
   "source": [
    "tradesheet = tradesheet[tradesheet['sell'].notna()]\n",
    "tradesheet = tradesheet[tradesheet['buy'].notna()]"
   ]
  },
  {
   "cell_type": "code",
   "execution_count": null,
   "metadata": {},
   "outputs": [],
   "source": [
    "tradesheet.pnl = (tradesheet.buy - tradesheet.sell) * tradesheet.spot"
   ]
  },
  {
   "cell_type": "code",
   "execution_count": null,
   "metadata": {},
   "outputs": [],
   "source": [
    "tradesheet_01_03_2022 = tradesheet[tradesheet.buy_timeStamp < 1646092800000 + 86400000]\n",
    "tradesheet_03_03_2022 = tradesheet[tradesheet.buy_timeStamp > 1646092800000 + 2*(86400000)]\n",
    "tradesheet_02_03_2022 = tradesheet.loc[tradesheet_01_03_2022.index[-1]:tradesheet_03_03_2022.index[0]]\n",
    "tradesheet_02_03_2022 = tradesheet_02_03_2022.reset_index()\n",
    "tradesheet_03_03_2022 = tradesheet_03_03_2022.reset_index()\n",
    "tradesheet_01_03_2022 = tradesheet_01_03_2022.reset_index()"
   ]
  },
  {
   "cell_type": "code",
   "execution_count": null,
   "metadata": {},
   "outputs": [],
   "source": [
    "metrics =pd.DataFrame(columns = ['date','No_of_trades','No_of_winners','No_of_losers','Avg_winner','Avg_loser','PnL_basisPoints','PnL_gross','Max_drawdown'])"
   ]
  },
  {
   "cell_type": "code",
   "execution_count": null,
   "metadata": {},
   "outputs": [],
   "source": [
    "metrics.loc[0,'date'] = '01/03/2022'\n",
    "metrics.loc[0,'No_of_trades'] = len(tradesheet_01_03_2022)\n",
    "metrics.loc[0,'No_of_winners'] = len(tradesheet_01_03_2022[tradesheet_01_03_2022.pnl > 0])\n",
    "metrics.loc[0,'No_of_losers'] = len(tradesheet_01_03_2022[tradesheet_01_03_2022.pnl < 0])\n",
    "metrics.loc[0,'Avg_winner'] = tradesheet_01_03_2022[tradesheet_01_03_2022.pnl > 0].pnl.sum()/metrics.loc[0,'No_of_winners']\n",
    "metrics.loc[0,'Avg_loser'] = tradesheet_01_03_2022[tradesheet_01_03_2022.pnl < 0].pnl.sum()/metrics.loc[0,'No_of_losers']\n",
    "metrics.loc[0,'PnL_gross' ] = tradesheet_01_03_2022.pnl.sum()\n",
    "metrics.loc[0,'PnL_basisPoints'] = (metrics.loc[0,'PnL_gross']/5000)*10000\n",
    "\n",
    "min_balance = 1000\n",
    "opening_balance = 1000\n",
    "for i in range(len(tradesheet_01_03_2022)-1):\n",
    "    opening_balance += tradesheet_01_03_2022.loc[i,'pnl'] \n",
    "    if opening_balance < min_balance:\n",
    "        min_balance = opening_balance\n",
    "metrics.loc[0,'Max_drawdown'] = 1000 - min_balance"
   ]
  },
  {
   "cell_type": "code",
   "execution_count": null,
   "metadata": {},
   "outputs": [],
   "source": [
    "metrics.loc[1,'date'] = '02/03/2022'\n",
    "metrics.loc[1,'No_of_trades'] = len(tradesheet_02_03_2022)\n",
    "metrics.loc[1,'No_of_winners'] = len(tradesheet_02_03_2022[tradesheet_02_03_2022.pnl > 0])\n",
    "metrics.loc[1,'No_of_losers'] = len(tradesheet_02_03_2022[tradesheet_02_03_2022.pnl < 0])\n",
    "metrics.loc[1,'Avg_winner'] = tradesheet_02_03_2022[tradesheet_02_03_2022.pnl > 0].pnl.sum()/metrics.loc[1,'No_of_winners']\n",
    "metrics.loc[1,'Avg_loser'] = tradesheet_02_03_2022[tradesheet_02_03_2022.pnl < 0].pnl.sum()/metrics.loc[1,'No_of_losers']\n",
    "metrics.loc[1,'PnL_gross' ] = tradesheet_02_03_2022.pnl.sum()\n",
    "metrics.loc[1,'PnL_basisPoints'] = (metrics.loc[1,'PnL_gross']/5000)*10000\n",
    "\n",
    "min_balance = 1000\n",
    "opening_balance = 1000\n",
    "for i in range(len(tradesheet_02_03_2022)-1):\n",
    "    opening_balance += tradesheet_02_03_2022.loc[i,'pnl'] \n",
    "    if opening_balance < min_balance:\n",
    "        min_balance = opening_balance\n",
    "metrics.loc[1,'Max_drawdown'] = 1000 - min_balance"
   ]
  },
  {
   "cell_type": "code",
   "execution_count": null,
   "metadata": {},
   "outputs": [],
   "source": [
    "metrics.loc[2,'date'] = '03/03/2022'\n",
    "metrics.loc[2,'No_of_trades'] = len(tradesheet_03_03_2022)\n",
    "metrics.loc[2,'No_of_winners'] = len(tradesheet_03_03_2022[tradesheet_03_03_2022.pnl > 0])\n",
    "metrics.loc[2,'No_of_losers'] = len(tradesheet_03_03_2022[tradesheet_03_03_2022.pnl < 0])\n",
    "metrics.loc[2,'Avg_winner'] = tradesheet_03_03_2022[tradesheet_03_03_2022.pnl > 0].pnl.sum()/metrics.loc[2,'No_of_winners']\n",
    "metrics.loc[2,'Avg_loser'] = tradesheet_03_03_2022[tradesheet_03_03_2022.pnl < 0].pnl.sum()/metrics.loc[2,'No_of_losers']\n",
    "metrics.loc[2,'PnL_gross' ] = tradesheet_03_03_2022.pnl.sum()\n",
    "metrics.loc[2,'PnL_basisPoints'] = (metrics.loc[2,'PnL_gross']/5000)*10000\n",
    "\n",
    "min_balance = 1000\n",
    "opening_balance = 1000\n",
    "for i in range(len(tradesheet_03_03_2022)-1):\n",
    "    opening_balance += tradesheet_03_03_2022.loc[i,'pnl'] \n",
    "    if opening_balance < min_balance:\n",
    "        min_balance = opening_balance\n",
    "metrics.loc[2,'Max_drawdown'] = 1000 - min_balance"
   ]
  },
  {
   "cell_type": "code",
   "execution_count": null,
   "metadata": {},
   "outputs": [],
   "source": [
    "metrics"
   ]
  }
 ],
 "metadata": {
  "kernelspec": {
   "display_name": "Python 3",
   "language": "python",
   "name": "python3"
  },
  "language_info": {
   "codemirror_mode": {
    "name": "ipython",
    "version": 3
   },
   "file_extension": ".py",
   "mimetype": "text/x-python",
   "name": "python",
   "nbconvert_exporter": "python",
   "pygments_lexer": "ipython3",
   "version": "3.8.3"
  }
 },
 "nbformat": 4,
 "nbformat_minor": 4
}
